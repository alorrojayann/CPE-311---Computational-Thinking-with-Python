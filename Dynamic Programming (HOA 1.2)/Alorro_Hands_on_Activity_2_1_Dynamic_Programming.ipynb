{
  "cells": [
    {
      "cell_type": "markdown",
      "id": "f1c6ec95",
      "metadata": {
        "id": "f1c6ec95"
      },
      "source": [
        "# Hands-on Activity 2.1 : Dynamic Programming"
      ]
    },
    {
      "cell_type": "markdown",
      "id": "56dacba1",
      "metadata": {
        "id": "56dacba1"
      },
      "source": [
        "#### Objective(s):\n",
        "\n",
        "This activity aims to demonstrate how to use dynamic programming to solve problems."
      ]
    },
    {
      "cell_type": "markdown",
      "id": "e51f84e3",
      "metadata": {
        "id": "e51f84e3"
      },
      "source": [
        "#### Intended Learning Outcomes (ILOs):\n",
        "* Differentiate recursion method from dynamic programming to solve problems.\n",
        "* Demonstrate how to  solve real-world problems using dynamic programming\n"
      ]
    },
    {
      "cell_type": "markdown",
      "id": "39047b1a",
      "metadata": {
        "id": "39047b1a"
      },
      "source": [
        "#### Resources:\n",
        "* Jupyter Notebook\n"
      ]
    },
    {
      "cell_type": "markdown",
      "id": "cb5360c0",
      "metadata": {
        "id": "cb5360c0"
      },
      "source": [
        "#### Procedures:"
      ]
    },
    {
      "cell_type": "markdown",
      "id": "206a914c",
      "metadata": {
        "id": "206a914c"
      },
      "source": [
        "1. Create a code that demonstrate how to use recursion method to solve problem"
      ]
    },
    {
      "cell_type": "markdown",
      "id": "5744a876",
      "metadata": {
        "id": "5744a876"
      },
      "source": [
        "2. Create a program codes that demonstrate how to use dynamic programming to solve the same problem"
      ]
    },
    {
      "cell_type": "markdown",
      "id": "8e3f6572",
      "metadata": {
        "id": "8e3f6572"
      },
      "source": [
        "##### Question:\n",
        "Explain the difference of using the recursion from dynamic programming using the given sample codes to solve the same problem"
      ]
    },
    {
      "cell_type": "markdown",
      "id": "b5a71b53",
      "metadata": {
        "id": "b5a71b53"
      },
      "source": [
        "Type your answer here:\n",
        "\n",
        "\n",
        "\n"
      ]
    },
    {
      "cell_type": "markdown",
      "id": "60074702",
      "metadata": {
        "id": "60074702"
      },
      "source": [
        "3. Create a sample program codes to simulate bottom-up dynamic programming"
      ]
    },
    {
      "cell_type": "code",
      "source": [
        "def biCoefficientTab(n, k):\n",
        "  tb = [[0] * (k+1) for _ in range(n+1)]\n",
        "  for i in range(n+1):\n",
        "    for j in range(min(i, k)+1):\n",
        "      if j == 0 or j == i:\n",
        "        tb[i][j] = 1\n",
        "      else:\n",
        "        tb[i][j] = tb[i-1][j-1] + tb[i-1][j]\n",
        "  return tb[n][k]\n",
        "\n",
        "n = 4\n",
        "k = 2\n",
        "print(\"Bottom-up Approach\")\n",
        "print(\"Value of C(%d,%d) is (%d)\" % (n, k, biCoefficientTab(n, k)))"
      ],
      "metadata": {
        "colab": {
          "base_uri": "https://localhost:8080/"
        },
        "id": "K3yMDeG89Mh_",
        "outputId": "4c3e9cd9-c810-46ac-b6a9-38885280d7cb"
      },
      "id": "K3yMDeG89Mh_",
      "execution_count": null,
      "outputs": [
        {
          "output_type": "stream",
          "name": "stdout",
          "text": [
            "Bottom-up Approach\n",
            "Value of C(4,2) is (6)\n"
          ]
        }
      ]
    },
    {
      "cell_type": "markdown",
      "id": "e629eb89",
      "metadata": {
        "id": "e629eb89"
      },
      "source": [
        "4. Create a sample program codes that simulate tops-down dynamic programming"
      ]
    },
    {
      "cell_type": "code",
      "source": [
        "def biCoefficientMem(n, k, memo):\n",
        "  if (n, k) in memo:\n",
        "    return memo[n,k]\n",
        "  if k > n:\n",
        "    return 0\n",
        "  if k == 0 or k == n:\n",
        "    return 1\n",
        "  memo[n, k] = biCoefficientMem(n-1, k-1, memo) + biCoefficientMem(n-1, k, memo)\n",
        "  return memo[n, k]\n",
        "\n",
        "memo = {}\n",
        "n = 4\n",
        "k = 2\n",
        "print(\"Top-down Approach\")\n",
        "print(\"Value of C(%d,%d) is (%d)\" % (n, k, biCoefficientMem(n, k, memo)))"
      ],
      "metadata": {
        "colab": {
          "base_uri": "https://localhost:8080/"
        },
        "id": "GdKcUD319M-w",
        "outputId": "c5d1e154-c12c-4afa-ea26-23d0a6396252"
      },
      "id": "GdKcUD319M-w",
      "execution_count": null,
      "outputs": [
        {
          "output_type": "stream",
          "name": "stdout",
          "text": [
            "Top-down Approach\n",
            "Value of C(4,2) is (6)\n"
          ]
        }
      ]
    },
    {
      "cell_type": "markdown",
      "id": "c2e2434c",
      "metadata": {
        "id": "c2e2434c"
      },
      "source": [
        "#### Question:\n",
        " Explain the difference between bottom-up from top-down dynamic programming using the given sample codes"
      ]
    },
    {
      "cell_type": "markdown",
      "id": "ac97e063",
      "metadata": {
        "id": "ac97e063"
      },
      "source": [
        "Type your answer here:\n",
        "\n",
        "\n",
        "\n",
        "\n"
      ]
    },
    {
      "cell_type": "markdown",
      "source": [
        "**ANSWER:**\n",
        "\n",
        "\n",
        "*  Bottom-up approach goes for the specifics first, that is why in memoization, we use dictionaries in order to store values that have already been solve or used before in order to just return rather than solving it again which saves time. Top-down approach on the other hand focuses on the general and makes it to the specific which we do by listing all possible results in the table and having to compute the solution with the use of the results we acquired in the table.\n",
        "\n"
      ],
      "metadata": {
        "id": "7du5Pyf39OvX"
      },
      "id": "7du5Pyf39OvX"
    },
    {
      "cell_type": "markdown",
      "id": "f7a5bfbd",
      "metadata": {
        "id": "f7a5bfbd"
      },
      "source": [
        "0/1 Knapsack Problem\n",
        "\n",
        "* Analyze three different techniques to solve knapsacks problem\n",
        "1. Recursion\n",
        "2. Dynamic Programming\n",
        "3. Memoization"
      ]
    },
    {
      "cell_type": "code",
      "source": [
        "#sample code for knapsack problem using recursion\n",
        "def rec_knapSack(w, wt, val, n):\n",
        "\n",
        "  #base case\n",
        "  #defined as nth item is empty;\n",
        "  #or the capacity w is 0\n",
        "  if n == 0 or w == 0:\n",
        "    return 0\n",
        "\n",
        "  #if weight of the nth item is more than\n",
        "  #the capacity W, then this item cannot be included\n",
        "  #as part of the optimal solution\n",
        "  if(wt[n-1] > w):\n",
        "    return rec_knapSack(w, wt, val, n-1)\n",
        "\n",
        "  #return the maximum of the two cases:\n",
        "  # (1) include the nth item\n",
        "  # (2) don't include the nth item\n",
        "  else:\n",
        "    return max(\n",
        "        val[n-1] + rec_knapSack(\n",
        "            w-wt[n-1], wt, val, n-1),\n",
        "            rec_knapSack(w, wt, val, n-1)\n",
        "    )"
      ],
      "metadata": {
        "id": "15SVHF85_1Ji"
      },
      "id": "15SVHF85_1Ji",
      "execution_count": null,
      "outputs": []
    },
    {
      "cell_type": "code",
      "source": [
        "#To test:\n",
        "val = [60, 100, 120] #values for the items\n",
        "wt = [10, 20, 30] #weight of the items\n",
        "w = 50 #knapsack weight capacity\n",
        "n = len(val) #number of items\n",
        "\n",
        "rec_knapSack(w, wt, val, n)"
      ],
      "metadata": {
        "colab": {
          "base_uri": "https://localhost:8080/"
        },
        "id": "b1D3YRJ7cMqU",
        "outputId": "788d87c8-0d84-4dd6-dfcf-1206fa495812"
      },
      "id": "b1D3YRJ7cMqU",
      "execution_count": null,
      "outputs": [
        {
          "output_type": "execute_result",
          "data": {
            "text/plain": [
              "220"
            ]
          },
          "metadata": {},
          "execution_count": 27
        }
      ]
    },
    {
      "cell_type": "code",
      "source": [
        "#Dynamic Programming for the Knapsack Problem\n",
        "def DP_knapSack(w, wt, val, n):\n",
        "  #create the table\n",
        "  table = [[0 for x in range(w+1)] for x in range (n+1)]\n",
        "\n",
        "  #populate the table in a bottom-up approach\n",
        "  for i in range(n+1):\n",
        "    for w in range(w+1):\n",
        "      if i == 0 or w == 0:\n",
        "        table[i][w] = 0\n",
        "      elif wt[i-1] <= w:\n",
        "        table[i][w] = max(val[i-1] + table[i-1][w-wt[i-1]],\n",
        "                          table[i-1][w])\n",
        "  return table[n][w]"
      ],
      "metadata": {
        "id": "A8OU1sUJ_1ES"
      },
      "id": "A8OU1sUJ_1ES",
      "execution_count": null,
      "outputs": []
    },
    {
      "cell_type": "code",
      "source": [
        "#To test:\n",
        "val = [60, 100, 120]\n",
        "wt = [10, 20, 30]\n",
        "w = 50\n",
        "n = len(val)\n",
        "\n",
        "DP_knapSack(w, wt, val, n)"
      ],
      "metadata": {
        "colab": {
          "base_uri": "https://localhost:8080/"
        },
        "id": "GUNeEPHrd-N1",
        "outputId": "4829e602-248b-48f8-cbd3-e75c4d87d3b6"
      },
      "id": "GUNeEPHrd-N1",
      "execution_count": null,
      "outputs": [
        {
          "output_type": "execute_result",
          "data": {
            "text/plain": [
              "220"
            ]
          },
          "metadata": {},
          "execution_count": 29
        }
      ]
    },
    {
      "cell_type": "code",
      "source": [
        "#Sample for top-down DP approach (memoization)\n",
        "#initialize the list of items\n",
        "val = [60, 100, 120]\n",
        "wt = [10, 20, 30]\n",
        "w = 50\n",
        "n = len(val)\n",
        "\n",
        "#initialize the container for the values that have to be stored\n",
        "#values are initialized to -1\n",
        "calc =[[-1 for i in range(w+1)] for j in range(n+1)]\n",
        "\n",
        "\n",
        "def mem_knapSack(wt, val, w, n):\n",
        "  #base conditions\n",
        "  if n == 0 or w == 0:\n",
        "    return 0\n",
        "  if calc[n][w] != -1:\n",
        "    return calc[n][w]\n",
        "\n",
        "  #compute for the other cases\n",
        "  if wt[n-1] <= w:\n",
        "    calc[n][w] = max(val[n-1] + mem_knapSack(wt, val, w-wt[n-1], n-1),\n",
        "                     mem_knapSack(wt, val, w, n-1))\n",
        "    return calc[n][w]\n",
        "  elif wt[n-1] > w:\n",
        "    calc[n][w] = mem_knapSack(wt, val, w, n-1)\n",
        "    return calc[n][w]\n",
        "\n",
        "mem_knapSack(wt, val, w, n)"
      ],
      "metadata": {
        "id": "VgwTX-XT_0_h",
        "colab": {
          "base_uri": "https://localhost:8080/"
        },
        "outputId": "6f3c2cc6-01fc-433a-ae1e-cbb99976c028"
      },
      "id": "VgwTX-XT_0_h",
      "execution_count": null,
      "outputs": [
        {
          "output_type": "execute_result",
          "data": {
            "text/plain": [
              "220"
            ]
          },
          "metadata": {},
          "execution_count": 31
        }
      ]
    },
    {
      "cell_type": "markdown",
      "source": [
        "**Code Analysis**\n",
        "\n",
        "Type your answer here."
      ],
      "metadata": {
        "id": "-UXSSblDcF8T"
      },
      "id": "-UXSSblDcF8T"
    },
    {
      "cell_type": "markdown",
      "source": [
        "## Seatwork 2.1"
      ],
      "metadata": {
        "id": "IGsdUGCUcTFd"
      },
      "id": "IGsdUGCUcTFd"
    },
    {
      "cell_type": "markdown",
      "id": "0462053d",
      "metadata": {
        "id": "0462053d"
      },
      "source": [
        "Task 1: Modify the three techniques to include additional criterion in the knapsack problems"
      ]
    },
    {
      "cell_type": "code",
      "execution_count": null,
      "id": "ed2f6186",
      "metadata": {
        "id": "ed2f6186"
      },
      "outputs": [],
      "source": [
        "#type your code here\n",
        "#Recursion\n",
        "\n",
        "\n",
        "\n",
        "\n",
        "#Dynamic\n",
        "\n",
        "\n",
        "\n",
        "\n",
        "#Memoization"
      ]
    },
    {
      "cell_type": "markdown",
      "id": "d97e864e",
      "metadata": {
        "id": "d97e864e"
      },
      "source": [
        "Fibonacci Numbers"
      ]
    },
    {
      "cell_type": "markdown",
      "id": "f44e88aa",
      "metadata": {
        "id": "f44e88aa"
      },
      "source": [
        "Task 2: Create a sample program that find the nth number of Fibonacci Series using Dynamic Programming"
      ]
    },
    {
      "cell_type": "code",
      "source": [
        "# memoization\n",
        "def fibMemo(n, memo):\n",
        "  if n == 1:\n",
        "    return 0\n",
        "  if n == 2:\n",
        "    return 1\n",
        "  if not n in memo:\n",
        "      memo[n] = fibMemo(n-1, memo) + fibMemo(n-2, memo)\n",
        "  return memo[n]\n",
        "\n",
        "tempDict = {}\n",
        "fibMemo(6, tempDict)\n",
        "\n",
        "print(\"Fibonacci Series - Memoization\")\n",
        "print(\"0\")\n",
        "print(\"1\")\n",
        "for element in tempDict.values():\n",
        "    print(element)"
      ],
      "metadata": {
        "id": "HoqkUdvj_2ZZ",
        "colab": {
          "base_uri": "https://localhost:8080/"
        },
        "outputId": "a5ef6293-5900-4dcd-bc48-7394a2521545"
      },
      "id": "HoqkUdvj_2ZZ",
      "execution_count": null,
      "outputs": [
        {
          "output_type": "stream",
          "name": "stdout",
          "text": [
            "Fibonacci Series - Memoization\n",
            "0\n",
            "1\n",
            "1\n",
            "2\n",
            "3\n",
            "5\n"
          ]
        }
      ]
    },
    {
      "cell_type": "code",
      "source": [
        "# tabulation\n",
        "def fibTab(n):\n",
        "    tb = [0, 1]\n",
        "    for i in range(2, n+1):\n",
        "      tb.append(tb[i-1] + tb[i-2])\n",
        "    return tb\n",
        "\n",
        "print(\"Fibonacci Series - Tabulation\")\n",
        "print(fibTab(6))"
      ],
      "metadata": {
        "colab": {
          "base_uri": "https://localhost:8080/"
        },
        "id": "thk-pPQcPUp4",
        "outputId": "407b77e8-e435-48cc-ac74-ef266ff2209d"
      },
      "id": "thk-pPQcPUp4",
      "execution_count": null,
      "outputs": [
        {
          "output_type": "stream",
          "name": "stdout",
          "text": [
            "Fibonacci Series - Tabulation\n",
            "[0, 1, 1, 2, 3, 5, 8]\n"
          ]
        }
      ]
    },
    {
      "cell_type": "markdown",
      "id": "070ddd75",
      "metadata": {
        "id": "070ddd75"
      },
      "source": [
        "## Supplementary Problem (HOA 2.1 Submission):\n",
        "* Choose a real-life problem\n",
        "* Use recursion and dynamic programming to solve the problem"
      ]
    },
    {
      "cell_type": "markdown",
      "source": [
        "**PROBLEM**\n",
        "\n",
        "\n",
        "*   You are in a bookstore having a specific amount of money. The goal is to pick however number of books according to the given constraint (budget) that contains the best ratings/review (1-5).\n",
        "\n"
      ],
      "metadata": {
        "id": "fmgiK5nmES4A"
      },
      "id": "fmgiK5nmES4A"
    },
    {
      "cell_type": "code",
      "source": [
        "# recursive solution\n",
        "def knapRecursion(capacity, prices, ratings, n):\n",
        "    if n == 0 or capacity == 0:\n",
        "        return []\n",
        "    if prices[n - 1] > capacity:\n",
        "        return knapRecursion(capacity, prices, ratings, n - 1)\n",
        "    else:\n",
        "        bought_books = knapRecursion(capacity - prices[n - 1], prices, ratings, n - 1) + [(n, ratings[n - 1])]\n",
        "        not_bought_books = knapRecursion(capacity, prices, ratings, n - 1)\n",
        "        if sum(book[1] for book in bought_books) > sum(book[1] for book in not_bought_books):\n",
        "            return bought_books\n",
        "        else:\n",
        "            return not_bought_books"
      ],
      "metadata": {
        "id": "KXSK--P2L_-Q"
      },
      "id": "KXSK--P2L_-Q",
      "execution_count": null,
      "outputs": []
    },
    {
      "cell_type": "code",
      "source": [
        "def totalRecursive(total_price, total_rating):\n",
        "  for book_index, rating in books:\n",
        "      total_price += prices[book_index - 1]\n",
        "      total_rating += rating\n",
        "      print(title[book_index - 1], \"- Rating:\", rating, \"- Price:\", prices[book_index - 1])\n",
        "  print(\"\\nTotal Price:\", total_price)\n",
        "  print(\"Total Rating:\", total_rating)"
      ],
      "metadata": {
        "id": "pKxTQ5H9OWbX"
      },
      "id": "pKxTQ5H9OWbX",
      "execution_count": null,
      "outputs": []
    },
    {
      "cell_type": "code",
      "source": [
        "title = ['book1', 'book2', 'book3', 'book4', 'book5','book6', 'book7', 'book8']\n",
        "ratings = [2, 5, 3, 4.5, 5, 4, 2, 5]\n",
        "prices = [599, 650, 600, 435, 550, 499, 399, 499]\n",
        "budget = 2000\n",
        "\n",
        "total_books = len(title)\n",
        "books = knapRecursion(budget, prices, ratings, total_books)\n",
        "\n",
        "total_price = 0\n",
        "total_rating = 0\n",
        "\n",
        "print(\"Books to buy:\")\n",
        "totalRecursive(total_price, total_rating)"
      ],
      "metadata": {
        "colab": {
          "base_uri": "https://localhost:8080/"
        },
        "id": "_qEmo-GhN8q9",
        "outputId": "f0361d49-8bba-426b-f86a-659509021834"
      },
      "id": "_qEmo-GhN8q9",
      "execution_count": null,
      "outputs": [
        {
          "output_type": "stream",
          "name": "stdout",
          "text": [
            "Books to buy:\n",
            "book4 - Rating: 4.5 - Price: 435\n",
            "book5 - Rating: 5 - Price: 550\n",
            "book6 - Rating: 4 - Price: 499\n",
            "book8 - Rating: 5 - Price: 499\n",
            "\n",
            "Total Price: 1983\n",
            "Total Rating: 18.5\n"
          ]
        }
      ]
    },
    {
      "cell_type": "code",
      "source": [
        "# dynamic solution (tabulation)\n",
        "def knapDynamic(budget, prices, ratings):\n",
        "    n = len(prices)\n",
        "    dp = [[0] * (budget + 1) for _ in range(n + 1)]\n",
        "    bought_books = [[[] for _ in range(budget + 1)] for _ in range(n + 1)]\n",
        "\n",
        "    for i in range(1, n + 1):\n",
        "        for j in range(1, budget + 1):\n",
        "            if prices[i - 1] <= j:\n",
        "                included = ratings[i - 1] + dp[i - 1][j - prices[i - 1]]\n",
        "                not_bought = dp[i - 1][j]\n",
        "                if included > not_bought:\n",
        "                    dp[i][j] = included\n",
        "                    bought_books[i][j] = bought_books[i - 1][j - prices[i - 1]] + [(i, ratings[i - 1])]\n",
        "                else:\n",
        "                    dp[i][j] = not_bought\n",
        "                    bought_books[i][j] = bought_books[i - 1][j]\n",
        "            else:\n",
        "                dp[i][j] = dp[i - 1][j]\n",
        "                bought_books[i][j] = bought_books[i - 1][j]\n",
        "\n",
        "    return bought_books[n][budget]"
      ],
      "metadata": {
        "id": "vGeXPdFtPwAH"
      },
      "id": "vGeXPdFtPwAH",
      "execution_count": null,
      "outputs": []
    },
    {
      "cell_type": "code",
      "source": [
        "def totalDynamic(total_price, total_rating):\n",
        "  for i, rating in books:\n",
        "        total_price += prices[i - 1]\n",
        "        total_rating += rating\n",
        "        print(title[i - 1], \"- Rating:\", rating, \"- Price:\", prices[i - 1])\n",
        "  print(\"\\nTotal Price:\", total_price)\n",
        "  print(\"Total Rating:\", total_rating)"
      ],
      "metadata": {
        "id": "Vx8wTMUcQ2dh"
      },
      "id": "Vx8wTMUcQ2dh",
      "execution_count": null,
      "outputs": []
    },
    {
      "cell_type": "code",
      "source": [
        "title = ['book1', 'book2', 'book3', 'book4', 'book5','book6', 'book7', 'book8']\n",
        "ratings = [2, 5, 3, 4.5, 5, 4, 2, 5]\n",
        "prices = [599, 650, 600, 435, 550, 499, 399, 499]\n",
        "budget = 2000  # Change the budget here as needed\n",
        "\n",
        "books = knapDynamic(budget, prices, ratings)\n",
        "total_price = 0\n",
        "total_rating = 0\n",
        "\n",
        "print(\"Books to buy:\")\n",
        "\n",
        "totalDynamic(total_price, total_rating)"
      ],
      "metadata": {
        "colab": {
          "base_uri": "https://localhost:8080/"
        },
        "id": "GPGqmX7HQxXP",
        "outputId": "6ca781a1-322d-4673-d479-d255e341d42e"
      },
      "id": "GPGqmX7HQxXP",
      "execution_count": null,
      "outputs": [
        {
          "output_type": "stream",
          "name": "stdout",
          "text": [
            "Books to buy:\n",
            "book4 - Rating: 4.5 - Price: 435\n",
            "book5 - Rating: 5 - Price: 550\n",
            "book6 - Rating: 4 - Price: 499\n",
            "book8 - Rating: 5 - Price: 499\n",
            "\n",
            "Total Price: 1983\n",
            "Total Rating: 18.5\n"
          ]
        }
      ]
    },
    {
      "cell_type": "markdown",
      "id": "bb0ed6a9",
      "metadata": {
        "id": "bb0ed6a9"
      },
      "source": [
        "#### Conclusion"
      ]
    },
    {
      "cell_type": "code",
      "execution_count": null,
      "id": "9627d18c",
      "metadata": {
        "id": "9627d18c"
      },
      "outputs": [],
      "source": [
        "#type your answer here"
      ]
    },
    {
      "cell_type": "markdown",
      "source": [
        "\n",
        "\n",
        "*   This activity introduced dynamic programming with the use of memoization and tabulation, a top-down and bottom-up approach in programing. For the first task, I implemented binomial coefficients in both techniques which I found to understand after looking up some examples and actually applying it to my code. I'm specially fond of the memoization method for it stores data that has already been computed to avoid having to work it all out again. The tabulation method is also handy but I still get confuse on how the tables are being implemented and how to properly create them. For the knapsack problem, I used the same real world problem that I created for the last activity. Converting it to possess a recursive quality is quite tricky and I'm still kind of confused on how it work but I think I got the output right. In the tabulation version of it, I just followed the original code I made using brute force algorithm but the creation and utilization took quite some time to make and work properly. All in all I still need to practice more in order to fully grasp the subject and actually implement it in which it makes sense to me.\n",
        "\n"
      ],
      "metadata": {
        "id": "eaKHlPzTRj34"
      },
      "id": "eaKHlPzTRj34"
    }
  ],
  "metadata": {
    "kernelspec": {
      "display_name": "Python 3",
      "language": "python",
      "name": "python3"
    },
    "language_info": {
      "codemirror_mode": {
        "name": "ipython",
        "version": 3
      },
      "file_extension": ".py",
      "mimetype": "text/x-python",
      "name": "python",
      "nbconvert_exporter": "python",
      "pygments_lexer": "ipython3",
      "version": "3.7.10"
    },
    "colab": {
      "provenance": []
    }
  },
  "nbformat": 4,
  "nbformat_minor": 5
}