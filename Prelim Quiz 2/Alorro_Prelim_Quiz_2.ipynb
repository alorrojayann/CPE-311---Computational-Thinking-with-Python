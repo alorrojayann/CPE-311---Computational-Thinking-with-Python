{
  "nbformat": 4,
  "nbformat_minor": 0,
  "metadata": {
    "colab": {
      "provenance": []
    },
    "kernelspec": {
      "name": "python3",
      "display_name": "Python 3"
    },
    "language_info": {
      "name": "python"
    }
  },
  "cells": [
    {
      "cell_type": "markdown",
      "source": [
        "  **Problem**: Making Change. You are given n types of coin denominations of values v(1) < v(2) < ... < v(n) (all integers). Assume v(1) = 1, so you can always make change for any amount of money C. Give an algorithm which makes change for an amount of money C with as few coins as possible. [on problem set 4]"
      ],
      "metadata": {
        "id": "BKvJju6tB6te"
      }
    },
    {
      "cell_type": "code",
      "execution_count": 16,
      "metadata": {
        "id": "wWqPVq15A1yz"
      },
      "outputs": [],
      "source": [
        "def change(n, c, memo=None):\n",
        "  if memo == None:\n",
        "    memo = {}\n",
        "  if n in memo:\n",
        "    return memo[n]\n",
        "\n",
        "  change = c/n\n",
        "  memo[n] = change\n",
        "\n",
        "  return memo[n]"
      ]
    },
    {
      "cell_type": "code",
      "source": [
        "change(8, 50)"
      ],
      "metadata": {
        "colab": {
          "base_uri": "https://localhost:8080/"
        },
        "id": "PphQFz7cC2VY",
        "outputId": "f65dcc73-be9c-4b63-a06f-1dc4f1873b76"
      },
      "execution_count": 17,
      "outputs": [
        {
          "output_type": "execute_result",
          "data": {
            "text/plain": [
              "6.25"
            ]
          },
          "metadata": {},
          "execution_count": 17
        }
      ]
    },
    {
      "cell_type": "code",
      "source": [
        "def change(n, c, memo=None):\n",
        "  if memo == None:\n",
        "    memo = {}\n",
        "  if n in memo:\n",
        "    return memo[n]\n",
        "\n",
        "  v = []\n",
        "  for i in range(1, n+1):\n",
        "    v.append(i)\n",
        "\n",
        "  sum = 0\n",
        "  change = 0\n",
        "  for i in v:\n",
        "    sum +=i\n",
        "    change += 1\n",
        "    if sum == c:\n",
        "      memo[n] = change\n",
        "      return change\n",
        "    if sum < c:\n",
        "      continue\n",
        "  memo[n] = change\n",
        "\n",
        "  return memo[n]"
      ],
      "metadata": {
        "id": "c3gTnJbwEIJm"
      },
      "execution_count": 41,
      "outputs": []
    },
    {
      "cell_type": "code",
      "source": [
        "change(10, 50)"
      ],
      "metadata": {
        "colab": {
          "base_uri": "https://localhost:8080/"
        },
        "id": "kRBm2gwCHKml",
        "outputId": "689f6053-0d43-4920-c005-92dd1a472372"
      },
      "execution_count": 42,
      "outputs": [
        {
          "output_type": "execute_result",
          "data": {
            "text/plain": [
              "10"
            ]
          },
          "metadata": {},
          "execution_count": 42
        }
      ]
    },
    {
      "cell_type": "code",
      "source": [],
      "metadata": {
        "id": "UrJ9q1dhH4eu"
      },
      "execution_count": null,
      "outputs": []
    }
  ]
}